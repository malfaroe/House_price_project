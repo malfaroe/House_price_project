{
 "cells": [
  {
   "cell_type": "code",
   "execution_count": 1,
   "metadata": {},
   "outputs": [],
   "source": [
    "##Import libraries \n",
    "\n",
    "import pandas as pd\n",
    "import numpy as np\n",
    "import matplotlib.pyplot as plt\n",
    "import seaborn as sns\n",
    "import warnings\n",
    "warnings.filterwarnings(\"ignore\")\n",
    "from datetime import datetime, timedelta\n",
    "\n",
    "# import all libraries and dependencies for data visualization\n",
    "pd.options.display.float_format='{:.4f}'.format\n",
    "plt.rcParams['figure.figsize'] = [8,8]\n",
    "pd.set_option('display.max_columns', 250)\n",
    "pd.set_option('display.max_colwidth', -1) \n",
    "pd.set_option(\"display.max_rows\", 500)\n",
    "sns.set(style='darkgrid')\n",
    "import matplotlib.ticker as ticker\n",
    "import matplotlib.ticker as plticker\n",
    "\n",
    "\n",
    "# import all libraries and dependencies for machine learning\n",
    "from sklearn.model_selection import train_test_split\n",
    "from sklearn import preprocessing\n",
    "from sklearn.base import TransformerMixin\n",
    "from sklearn.model_selection import train_test_split\n",
    "from sklearn.preprocessing import MinMaxScaler\n",
    "from sklearn.preprocessing import OrdinalEncoder\n",
    "from sklearn.preprocessing import LabelEncoder\n",
    "from sklearn.preprocessing import OneHotEncoder\n",
    "from sklearn.preprocessing import RobustScaler\n",
    "from sklearn.preprocessing import StandardScaler\n",
    "\n",
    "\n",
    "from sklearn.compose import make_column_transformer\n",
    "\n",
    "\n",
    "import statsmodels.api as sm\n",
    "from sklearn.feature_selection import RFE\n",
    "from sklearn.linear_model import LinearRegression\n",
    "from statsmodels.stats.outliers_influence import variance_inflation_factor\n",
    "from sklearn.metrics import mean_squared_error, r2_score\n",
    "from sklearn.preprocessing import PolynomialFeatures\n",
    "\n",
    "from scipy import stats\n",
    "from scipy.stats import norm, kurtosis, skew\n",
    "\n",
    "# Import specific libraries\n",
    "import statsmodels.api as sm\n",
    "from statsmodels.stats import diagnostic as diag\n",
    "from statsmodels.stats.outliers_influence import variance_inflation_factor\n",
    "\n",
    "pd.set_option('expand_frame_repr', False)\n",
    "\n"
   ]
  },
  {
   "cell_type": "code",
   "execution_count": 2,
   "metadata": {},
   "outputs": [],
   "source": [
    "##FILTRAR: mas_cols  = all_data.filter(like='Mas', axis=1).columns"
   ]
  },
  {
   "cell_type": "code",
   "execution_count": 3,
   "metadata": {},
   "outputs": [
    {
     "data": {
      "text/plain": [
       "((2905, 225), (1446,))"
      ]
     },
     "execution_count": 3,
     "metadata": {},
     "output_type": "execute_result"
    }
   ],
   "source": [
    "#Loading updated dataset\n",
    "\n",
    "%store -r all_data\n",
    "%store -r y_train\n",
    "all_data.shape, y_train.shape"
   ]
  },
  {
   "cell_type": "code",
   "execution_count": 4,
   "metadata": {},
   "outputs": [],
   "source": [
    "###Correlation data for analysis\n",
    "data = all_data.iloc[:len(y_train), :]\n",
    "data[\"SalePrice\"] = y_train\n",
    "\n",
    "#Correlation dataframe\n",
    "df = data.corr()\n"
   ]
  },
  {
   "cell_type": "code",
   "execution_count": 5,
   "metadata": {},
   "outputs": [
    {
     "data": {
      "text/html": [
       "<div>\n",
       "<style scoped>\n",
       "    .dataframe tbody tr th:only-of-type {\n",
       "        vertical-align: middle;\n",
       "    }\n",
       "\n",
       "    .dataframe tbody tr th {\n",
       "        vertical-align: top;\n",
       "    }\n",
       "\n",
       "    .dataframe thead th {\n",
       "        text-align: right;\n",
       "    }\n",
       "</style>\n",
       "<table border=\"1\" class=\"dataframe\">\n",
       "  <thead>\n",
       "    <tr style=\"text-align: right;\">\n",
       "      <th></th>\n",
       "      <th>Feature_w_max_corr</th>\n",
       "      <th>Max_correlation</th>\n",
       "      <th>F1_corr_Target</th>\n",
       "      <th>F2_corr_Target</th>\n",
       "      <th>Dropable</th>\n",
       "    </tr>\n",
       "  </thead>\n",
       "  <tbody>\n",
       "    <tr>\n",
       "      <th>TotalPoints</th>\n",
       "      <td>OverallQual</td>\n",
       "      <td>0.9705</td>\n",
       "      <td>0.8513</td>\n",
       "      <td>0.7980</td>\n",
       "      <td>OverallQual</td>\n",
       "    </tr>\n",
       "    <tr>\n",
       "      <th>OverallQual</th>\n",
       "      <td>TotalPoints</td>\n",
       "      <td>0.9705</td>\n",
       "      <td>0.7980</td>\n",
       "      <td>0.8513</td>\n",
       "      <td>OverallQual</td>\n",
       "    </tr>\n",
       "    <tr>\n",
       "      <th>GarageArea_x_Car</th>\n",
       "      <td>GarageArea</td>\n",
       "      <td>0.9343</td>\n",
       "      <td>0.7127</td>\n",
       "      <td>0.6491</td>\n",
       "      <td>GarageArea</td>\n",
       "    </tr>\n",
       "    <tr>\n",
       "      <th>TotalBsmtSF_x_Bsm</th>\n",
       "      <td>TotalBsmtSF</td>\n",
       "      <td>0.9424</td>\n",
       "      <td>0.6814</td>\n",
       "      <td>0.6489</td>\n",
       "      <td>TotalBsmtSF</td>\n",
       "    </tr>\n",
       "    <tr>\n",
       "      <th>GarageCars</th>\n",
       "      <td>GarageArea_x_Car</td>\n",
       "      <td>0.9087</td>\n",
       "      <td>0.6525</td>\n",
       "      <td>0.7127</td>\n",
       "      <td>GarageCars</td>\n",
       "    </tr>\n",
       "    <tr>\n",
       "      <th>GarageArea</th>\n",
       "      <td>GarageArea_x_Car</td>\n",
       "      <td>0.9343</td>\n",
       "      <td>0.6491</td>\n",
       "      <td>0.7127</td>\n",
       "      <td>GarageArea</td>\n",
       "    </tr>\n",
       "    <tr>\n",
       "      <th>TotalBsmtSF</th>\n",
       "      <td>TotalBsmtSF_x_Bsm</td>\n",
       "      <td>0.9424</td>\n",
       "      <td>0.6489</td>\n",
       "      <td>0.6814</td>\n",
       "      <td>TotalBsmtSF</td>\n",
       "    </tr>\n",
       "    <tr>\n",
       "      <th>BsmtSFPoints</th>\n",
       "      <td>BsmtQual</td>\n",
       "      <td>0.9218</td>\n",
       "      <td>0.6432</td>\n",
       "      <td>0.5855</td>\n",
       "      <td>BsmtQual</td>\n",
       "    </tr>\n",
       "    <tr>\n",
       "      <th>1stFlrSF</th>\n",
       "      <td>TotalBsmtSF_x_Bsm</td>\n",
       "      <td>0.9057</td>\n",
       "      <td>0.6292</td>\n",
       "      <td>0.6814</td>\n",
       "      <td>1stFlrSF</td>\n",
       "    </tr>\n",
       "    <tr>\n",
       "      <th>BsmtQual</th>\n",
       "      <td>BsmtSFPoints</td>\n",
       "      <td>0.9218</td>\n",
       "      <td>0.5855</td>\n",
       "      <td>0.6432</td>\n",
       "      <td>BsmtQual</td>\n",
       "    </tr>\n",
       "    <tr>\n",
       "      <th>SaleType_New</th>\n",
       "      <td>SaleCondition_Partial</td>\n",
       "      <td>0.9864</td>\n",
       "      <td>0.3586</td>\n",
       "      <td>0.3530</td>\n",
       "      <td>SaleCondition_Partial</td>\n",
       "    </tr>\n",
       "    <tr>\n",
       "      <th>SaleCondition_Partial</th>\n",
       "      <td>SaleType_New</td>\n",
       "      <td>0.9864</td>\n",
       "      <td>0.3530</td>\n",
       "      <td>0.3586</td>\n",
       "      <td>SaleCondition_Partial</td>\n",
       "    </tr>\n",
       "    <tr>\n",
       "      <th>Exterior2nd_VinylSd</th>\n",
       "      <td>Exterior1st_VinylSd</td>\n",
       "      <td>0.9774</td>\n",
       "      <td>0.3116</td>\n",
       "      <td>0.3102</td>\n",
       "      <td>Exterior1st_VinylSd</td>\n",
       "    </tr>\n",
       "    <tr>\n",
       "      <th>Exterior1st_VinylSd</th>\n",
       "      <td>Exterior2nd_VinylSd</td>\n",
       "      <td>0.9774</td>\n",
       "      <td>0.3102</td>\n",
       "      <td>0.3116</td>\n",
       "      <td>Exterior1st_VinylSd</td>\n",
       "    </tr>\n",
       "    <tr>\n",
       "      <th>GarageQual</th>\n",
       "      <td>GarageCond</td>\n",
       "      <td>0.9578</td>\n",
       "      <td>0.2781</td>\n",
       "      <td>0.2673</td>\n",
       "      <td>GarageCond</td>\n",
       "    </tr>\n",
       "    <tr>\n",
       "      <th>GarageCond</th>\n",
       "      <td>GarageQual</td>\n",
       "      <td>0.9578</td>\n",
       "      <td>0.2673</td>\n",
       "      <td>0.2781</td>\n",
       "      <td>GarageCond</td>\n",
       "    </tr>\n",
       "    <tr>\n",
       "      <th>RoofStyle_Hip</th>\n",
       "      <td>RoofStyle_Gable</td>\n",
       "      <td>-0.9322</td>\n",
       "      <td>0.2298</td>\n",
       "      <td>-0.2189</td>\n",
       "      <td>RoofStyle_Gable</td>\n",
       "    </tr>\n",
       "    <tr>\n",
       "      <th>Exterior1st_CemntBd</th>\n",
       "      <td>Exterior2nd_CmentBd</td>\n",
       "      <td>0.9729</td>\n",
       "      <td>0.1250</td>\n",
       "      <td>0.1194</td>\n",
       "      <td>Exterior2nd_CmentBd</td>\n",
       "    </tr>\n",
       "    <tr>\n",
       "      <th>Exterior2nd_CmentBd</th>\n",
       "      <td>Exterior1st_CemntBd</td>\n",
       "      <td>0.9729</td>\n",
       "      <td>0.1194</td>\n",
       "      <td>0.1250</td>\n",
       "      <td>Exterior2nd_CmentBd</td>\n",
       "    </tr>\n",
       "    <tr>\n",
       "      <th>MiscFeature_Pool</th>\n",
       "      <td>PoolArea</td>\n",
       "      <td>0.9911</td>\n",
       "      <td>0.1050</td>\n",
       "      <td>0.1005</td>\n",
       "      <td>PoolArea</td>\n",
       "    </tr>\n",
       "    <tr>\n",
       "      <th>PoolArea</th>\n",
       "      <td>MiscFeature_Pool</td>\n",
       "      <td>0.9911</td>\n",
       "      <td>0.1005</td>\n",
       "      <td>0.1050</td>\n",
       "      <td>PoolArea</td>\n",
       "    </tr>\n",
       "    <tr>\n",
       "      <th>MiscFeature_NA</th>\n",
       "      <td>MiscFeature_Shed</td>\n",
       "      <td>-0.9031</td>\n",
       "      <td>0.0407</td>\n",
       "      <td>-0.0737</td>\n",
       "      <td>MiscFeature_NA</td>\n",
       "    </tr>\n",
       "    <tr>\n",
       "      <th>New</th>\n",
       "      <td>Remod</td>\n",
       "      <td>-1.0000</td>\n",
       "      <td>0.0197</td>\n",
       "      <td>-0.0197</td>\n",
       "      <td>New</td>\n",
       "    </tr>\n",
       "    <tr>\n",
       "      <th>Remod</th>\n",
       "      <td>New</td>\n",
       "      <td>-1.0000</td>\n",
       "      <td>-0.0197</td>\n",
       "      <td>0.0197</td>\n",
       "      <td>Remod</td>\n",
       "    </tr>\n",
       "    <tr>\n",
       "      <th>Exterior1st_CBlock</th>\n",
       "      <td>Exterior2nd_CBlock</td>\n",
       "      <td>1.0000</td>\n",
       "      <td>-0.0251</td>\n",
       "      <td>-0.0251</td>\n",
       "      <td>Exterior1st_CBlock</td>\n",
       "    </tr>\n",
       "    <tr>\n",
       "      <th>Exterior2nd_CBlock</th>\n",
       "      <td>Exterior1st_CBlock</td>\n",
       "      <td>1.0000</td>\n",
       "      <td>-0.0251</td>\n",
       "      <td>-0.0251</td>\n",
       "      <td>Exterior2nd_CBlock</td>\n",
       "    </tr>\n",
       "    <tr>\n",
       "      <th>MSSubClass_80</th>\n",
       "      <td>HouseStyle_SLvl</td>\n",
       "      <td>0.9422</td>\n",
       "      <td>-0.0278</td>\n",
       "      <td>-0.0378</td>\n",
       "      <td>MSSubClass_80</td>\n",
       "    </tr>\n",
       "    <tr>\n",
       "      <th>HouseStyle_SLvl</th>\n",
       "      <td>MSSubClass_80</td>\n",
       "      <td>0.9422</td>\n",
       "      <td>-0.0378</td>\n",
       "      <td>-0.0278</td>\n",
       "      <td>MSSubClass_80</td>\n",
       "    </tr>\n",
       "    <tr>\n",
       "      <th>MiscFeature_Shed</th>\n",
       "      <td>MiscFeature_NA</td>\n",
       "      <td>-0.9031</td>\n",
       "      <td>-0.0737</td>\n",
       "      <td>0.0407</td>\n",
       "      <td>MiscFeature_NA</td>\n",
       "    </tr>\n",
       "    <tr>\n",
       "      <th>MSSubClass_45</th>\n",
       "      <td>HouseStyle_1.5Unf</td>\n",
       "      <td>0.9252</td>\n",
       "      <td>-0.0830</td>\n",
       "      <td>-0.0878</td>\n",
       "      <td>MSSubClass_45</td>\n",
       "    </tr>\n",
       "    <tr>\n",
       "      <th>HouseStyle_1.5Unf</th>\n",
       "      <td>MSSubClass_45</td>\n",
       "      <td>0.9252</td>\n",
       "      <td>-0.0878</td>\n",
       "      <td>-0.0830</td>\n",
       "      <td>MSSubClass_45</td>\n",
       "    </tr>\n",
       "    <tr>\n",
       "      <th>MSSubClass_190</th>\n",
       "      <td>BldgType_2fmCon</td>\n",
       "      <td>0.9816</td>\n",
       "      <td>-0.1020</td>\n",
       "      <td>-0.1057</td>\n",
       "      <td>MSSubClass_190</td>\n",
       "    </tr>\n",
       "    <tr>\n",
       "      <th>BldgType_2fmCon</th>\n",
       "      <td>MSSubClass_190</td>\n",
       "      <td>0.9816</td>\n",
       "      <td>-0.1057</td>\n",
       "      <td>-0.1020</td>\n",
       "      <td>MSSubClass_190</td>\n",
       "    </tr>\n",
       "    <tr>\n",
       "      <th>MSSubClass_90</th>\n",
       "      <td>BldgType_Duplex</td>\n",
       "      <td>1.0000</td>\n",
       "      <td>-0.1170</td>\n",
       "      <td>-0.1170</td>\n",
       "      <td>MSSubClass_90</td>\n",
       "    </tr>\n",
       "    <tr>\n",
       "      <th>BldgType_Duplex</th>\n",
       "      <td>MSSubClass_90</td>\n",
       "      <td>1.0000</td>\n",
       "      <td>-0.1170</td>\n",
       "      <td>-0.1170</td>\n",
       "      <td>BldgType_Duplex</td>\n",
       "    </tr>\n",
       "    <tr>\n",
       "      <th>Exterior2nd_MetalSd</th>\n",
       "      <td>Exterior1st_MetalSd</td>\n",
       "      <td>0.9726</td>\n",
       "      <td>-0.1596</td>\n",
       "      <td>-0.1643</td>\n",
       "      <td>Exterior2nd_MetalSd</td>\n",
       "    </tr>\n",
       "    <tr>\n",
       "      <th>Exterior1st_MetalSd</th>\n",
       "      <td>Exterior2nd_MetalSd</td>\n",
       "      <td>0.9726</td>\n",
       "      <td>-0.1643</td>\n",
       "      <td>-0.1596</td>\n",
       "      <td>Exterior2nd_MetalSd</td>\n",
       "    </tr>\n",
       "    <tr>\n",
       "      <th>RoofStyle_Gable</th>\n",
       "      <td>RoofStyle_Hip</td>\n",
       "      <td>-0.9322</td>\n",
       "      <td>-0.2189</td>\n",
       "      <td>0.2298</td>\n",
       "      <td>RoofStyle_Gable</td>\n",
       "    </tr>\n",
       "    <tr>\n",
       "      <th>GarageNewest</th>\n",
       "      <td>GarageType_NA</td>\n",
       "      <td>0.9437</td>\n",
       "      <td>-0.2372</td>\n",
       "      <td>-0.2408</td>\n",
       "      <td>GarageNewest</td>\n",
       "    </tr>\n",
       "    <tr>\n",
       "      <th>GarageType_NA</th>\n",
       "      <td>GarageCond</td>\n",
       "      <td>-0.9444</td>\n",
       "      <td>-0.2408</td>\n",
       "      <td>0.2673</td>\n",
       "      <td>GarageType_NA</td>\n",
       "    </tr>\n",
       "    <tr>\n",
       "      <th>YearRemodAdd</th>\n",
       "      <td>Age</td>\n",
       "      <td>0.9979</td>\n",
       "      <td>-0.5094</td>\n",
       "      <td>-0.5115</td>\n",
       "      <td>YearRemodAdd</td>\n",
       "    </tr>\n",
       "    <tr>\n",
       "      <th>Age</th>\n",
       "      <td>YearRemodAdd</td>\n",
       "      <td>0.9979</td>\n",
       "      <td>-0.5115</td>\n",
       "      <td>-0.5094</td>\n",
       "      <td>YearRemodAdd</td>\n",
       "    </tr>\n",
       "  </tbody>\n",
       "</table>\n",
       "</div>"
      ],
      "text/plain": [
       "                          Feature_w_max_corr  Max_correlation  F1_corr_Target  F2_corr_Target               Dropable\n",
       "TotalPoints            OverallQual           0.9705           0.8513          0.7980           OverallQual          \n",
       "OverallQual            TotalPoints           0.9705           0.7980          0.8513           OverallQual          \n",
       "GarageArea_x_Car       GarageArea            0.9343           0.7127          0.6491           GarageArea           \n",
       "TotalBsmtSF_x_Bsm      TotalBsmtSF           0.9424           0.6814          0.6489           TotalBsmtSF          \n",
       "GarageCars             GarageArea_x_Car      0.9087           0.6525          0.7127           GarageCars           \n",
       "GarageArea             GarageArea_x_Car      0.9343           0.6491          0.7127           GarageArea           \n",
       "TotalBsmtSF            TotalBsmtSF_x_Bsm     0.9424           0.6489          0.6814           TotalBsmtSF          \n",
       "BsmtSFPoints           BsmtQual              0.9218           0.6432          0.5855           BsmtQual             \n",
       "1stFlrSF               TotalBsmtSF_x_Bsm     0.9057           0.6292          0.6814           1stFlrSF             \n",
       "BsmtQual               BsmtSFPoints          0.9218           0.5855          0.6432           BsmtQual             \n",
       "SaleType_New           SaleCondition_Partial 0.9864           0.3586          0.3530           SaleCondition_Partial\n",
       "SaleCondition_Partial  SaleType_New          0.9864           0.3530          0.3586           SaleCondition_Partial\n",
       "Exterior2nd_VinylSd    Exterior1st_VinylSd   0.9774           0.3116          0.3102           Exterior1st_VinylSd  \n",
       "Exterior1st_VinylSd    Exterior2nd_VinylSd   0.9774           0.3102          0.3116           Exterior1st_VinylSd  \n",
       "GarageQual             GarageCond            0.9578           0.2781          0.2673           GarageCond           \n",
       "GarageCond             GarageQual            0.9578           0.2673          0.2781           GarageCond           \n",
       "RoofStyle_Hip          RoofStyle_Gable       -0.9322          0.2298          -0.2189          RoofStyle_Gable      \n",
       "Exterior1st_CemntBd    Exterior2nd_CmentBd   0.9729           0.1250          0.1194           Exterior2nd_CmentBd  \n",
       "Exterior2nd_CmentBd    Exterior1st_CemntBd   0.9729           0.1194          0.1250           Exterior2nd_CmentBd  \n",
       "MiscFeature_Pool       PoolArea              0.9911           0.1050          0.1005           PoolArea             \n",
       "PoolArea               MiscFeature_Pool      0.9911           0.1005          0.1050           PoolArea             \n",
       "MiscFeature_NA         MiscFeature_Shed      -0.9031          0.0407          -0.0737          MiscFeature_NA       \n",
       "New                    Remod                 -1.0000          0.0197          -0.0197          New                  \n",
       "Remod                  New                   -1.0000          -0.0197         0.0197           Remod                \n",
       "Exterior1st_CBlock     Exterior2nd_CBlock    1.0000           -0.0251         -0.0251          Exterior1st_CBlock   \n",
       "Exterior2nd_CBlock     Exterior1st_CBlock    1.0000           -0.0251         -0.0251          Exterior2nd_CBlock   \n",
       "MSSubClass_80          HouseStyle_SLvl       0.9422           -0.0278         -0.0378          MSSubClass_80        \n",
       "HouseStyle_SLvl        MSSubClass_80         0.9422           -0.0378         -0.0278          MSSubClass_80        \n",
       "MiscFeature_Shed       MiscFeature_NA        -0.9031          -0.0737         0.0407           MiscFeature_NA       \n",
       "MSSubClass_45          HouseStyle_1.5Unf     0.9252           -0.0830         -0.0878          MSSubClass_45        \n",
       "HouseStyle_1.5Unf      MSSubClass_45         0.9252           -0.0878         -0.0830          MSSubClass_45        \n",
       "MSSubClass_190         BldgType_2fmCon       0.9816           -0.1020         -0.1057          MSSubClass_190       \n",
       "BldgType_2fmCon        MSSubClass_190        0.9816           -0.1057         -0.1020          MSSubClass_190       \n",
       "MSSubClass_90          BldgType_Duplex       1.0000           -0.1170         -0.1170          MSSubClass_90        \n",
       "BldgType_Duplex        MSSubClass_90         1.0000           -0.1170         -0.1170          BldgType_Duplex      \n",
       "Exterior2nd_MetalSd    Exterior1st_MetalSd   0.9726           -0.1596         -0.1643          Exterior2nd_MetalSd  \n",
       "Exterior1st_MetalSd    Exterior2nd_MetalSd   0.9726           -0.1643         -0.1596          Exterior2nd_MetalSd  \n",
       "RoofStyle_Gable        RoofStyle_Hip         -0.9322          -0.2189         0.2298           RoofStyle_Gable      \n",
       "GarageNewest           GarageType_NA         0.9437           -0.2372         -0.2408          GarageNewest         \n",
       "GarageType_NA          GarageCond            -0.9444          -0.2408         0.2673           GarageType_NA        \n",
       "YearRemodAdd           Age                   0.9979           -0.5094         -0.5115          YearRemodAdd         \n",
       "Age                    YearRemodAdd          0.9979           -0.5115         -0.5094          YearRemodAdd         "
      ]
     },
     "execution_count": 5,
     "metadata": {},
     "output_type": "execute_result"
    }
   ],
   "source": [
    "##MODULO: GENERA DATAFRAME CON LOS FEATURES MAS CORRELACIONADOS RECOMENDANDO LOS DROPABLES\n",
    "#INPUT: df = cuadro de correlaciones (data,corr())\n",
    "#OUTPUT: sum_final, summary de features mas correlacionados, sus correlaciones con target y lista conrecomendacion de eliminar el\n",
    "#####de menor correlacion con target (Dropables)\n",
    "#Nota: se filtran los features con correlacion con target > 0.26\n",
    "\n",
    "def feat_corr(df, target):\n",
    "    for i in df.index:\n",
    "        cols = list(set(df.index) - set([i]))\n",
    "        maximo = np.abs(df.loc[i, cols]).max()\n",
    "        for c in cols:\n",
    "            name_max = \"None\"\n",
    "            if np.abs(df.loc[i, c]) == maximo:\n",
    "                name_max = c\n",
    "                df.loc[i, \"Feature_w_max_corr\"] = c\n",
    "                df.loc[i, \"Max_correlation\"] = df.loc[i, c] \n",
    "                df.loc[i, \"F1_corr_Target\"] = df.loc[i, target]\n",
    "                df.loc[i, \"F2_corr_Target\"] = df.loc[c, target]\n",
    "                if np.abs(df.loc[i, \"F1_corr_Target\"]) > np.abs(df.loc[i, \"F2_corr_Target\"]):\n",
    "                    df.loc[i, \"Dropable\"] = c\n",
    "                elif  np.abs(df.loc[i, \"F1_corr_Target\"]) < np.abs(df.loc[i, \"F2_corr_Target\"]):\n",
    "                    df.loc[i, \"Dropable\"] = i\n",
    "                else:\n",
    "                    df.loc[i, \"Dropable\"] = i\n",
    "                    \n",
    "    summary =  df[[\"Feature_w_max_corr\", \"Max_correlation\", \"F1_corr_Target\", \"F2_corr_Target\", \"Dropable\"]].sort_values(by = \"F1_corr_Target\", ascending = False)\n",
    "#     sum_final = summary[(abs(summary[\"F1_corr_Target\"]) > 0.26) & (abs(summary[\"F2_corr_Target\"]) > 0.26)]\n",
    "    sum_final = summary[(abs(summary[\"Max_correlation\"]) > 0.9) ]\n",
    "\n",
    "    dropables = list(sum_final[\"Dropable\"].unique())\n",
    "    return sum_final, dropables\n",
    "\n",
    "sum, dropables = feat_corr(df, \"SalePrice\")\n",
    "\n",
    "sum\n"
   ]
  },
  {
   "cell_type": "code",
   "execution_count": 6,
   "metadata": {},
   "outputs": [
    {
     "data": {
      "text/plain": [
       "['OverallQual',\n",
       " 'GarageArea',\n",
       " 'TotalBsmtSF',\n",
       " 'GarageCars',\n",
       " 'BsmtQual',\n",
       " '1stFlrSF',\n",
       " 'SaleCondition_Partial',\n",
       " 'Exterior1st_VinylSd',\n",
       " 'GarageCond',\n",
       " 'RoofStyle_Gable',\n",
       " 'Exterior2nd_CmentBd',\n",
       " 'PoolArea',\n",
       " 'MiscFeature_NA',\n",
       " 'New',\n",
       " 'Remod',\n",
       " 'Exterior1st_CBlock',\n",
       " 'Exterior2nd_CBlock',\n",
       " 'MSSubClass_80',\n",
       " 'MSSubClass_45',\n",
       " 'MSSubClass_190',\n",
       " 'MSSubClass_90',\n",
       " 'BldgType_Duplex',\n",
       " 'Exterior2nd_MetalSd',\n",
       " 'GarageNewest',\n",
       " 'GarageType_NA',\n",
       " 'YearRemodAdd']"
      ]
     },
     "execution_count": 6,
     "metadata": {},
     "output_type": "execute_result"
    }
   ],
   "source": [
    "dropables"
   ]
  },
  {
   "cell_type": "code",
   "execution_count": 7,
   "metadata": {},
   "outputs": [],
   "source": [
    "viejo = list(['FireplaceQu', 'BsmtSFPoints', 'TotalBsmtSF', 'GarageArea', 'GarageCars', 'OverallQual', 'GrLivArea', \n",
    "               'TotalBsmtSF_x_Bsm', '1stFlrSF', 'PoolArea', 'LotArea', 'SaleCondition_Partial', 'Exterior1st_VinylSd',\n",
    "               'GarageCond', 'HouseStyle_2Story', 'BsmtSFMultPoints', 'ScreenPorch', 'LowQualFinSF', 'BsmtFinSF2',\n",
    "               '3SsnPorch'])\n",
    "# sum.loc[viejo, :]"
   ]
  },
  {
   "cell_type": "code",
   "execution_count": 8,
   "metadata": {},
   "outputs": [],
   "source": [
    "#Remove ConstructArea from dropables  because it is highloy correlated only with SalePrice\n",
    "# dropables.remove(\"ConstructArea\")\n"
   ]
  },
  {
   "cell_type": "code",
   "execution_count": 9,
   "metadata": {},
   "outputs": [
    {
     "data": {
      "text/plain": [
       "['OverallQual',\n",
       " 'GarageArea',\n",
       " 'TotalBsmtSF',\n",
       " 'GarageCars',\n",
       " 'BsmtQual',\n",
       " '1stFlrSF',\n",
       " 'SaleCondition_Partial',\n",
       " 'Exterior1st_VinylSd',\n",
       " 'GarageCond',\n",
       " 'RoofStyle_Gable',\n",
       " 'Exterior2nd_CmentBd',\n",
       " 'PoolArea',\n",
       " 'MiscFeature_NA',\n",
       " 'New',\n",
       " 'Remod',\n",
       " 'Exterior1st_CBlock',\n",
       " 'Exterior2nd_CBlock',\n",
       " 'MSSubClass_80',\n",
       " 'MSSubClass_45',\n",
       " 'MSSubClass_190',\n",
       " 'MSSubClass_90',\n",
       " 'BldgType_Duplex',\n",
       " 'Exterior2nd_MetalSd',\n",
       " 'GarageNewest',\n",
       " 'GarageType_NA',\n",
       " 'YearRemodAdd']"
      ]
     },
     "execution_count": 9,
     "metadata": {},
     "output_type": "execute_result"
    }
   ],
   "source": [
    "dropables"
   ]
  },
  {
   "cell_type": "code",
   "execution_count": 10,
   "metadata": {},
   "outputs": [],
   "source": [
    "#3We drop the features in dropables from all_data\n",
    "all_data.drop(columns = dropables, axis = 1, inplace = True)\n",
    "# all_data.drop(columns = viejo, axis = 1, inplace = True)\n",
    "\n",
    "\n",
    "\n"
   ]
  },
  {
   "cell_type": "code",
   "execution_count": 11,
   "metadata": {},
   "outputs": [
    {
     "data": {
      "text/plain": [
       "(2905, 199)"
      ]
     },
     "execution_count": 11,
     "metadata": {},
     "output_type": "execute_result"
    }
   ],
   "source": [
    "all_data.shape"
   ]
  },
  {
   "cell_type": "code",
   "execution_count": 12,
   "metadata": {},
   "outputs": [
    {
     "name": "stdout",
     "output_type": "stream",
     "text": [
      "Stored 'data_0' (DataFrame)\n"
     ]
    }
   ],
   "source": [
    "data_0 = all_data.copy()\n",
    "%store data_0"
   ]
  },
  {
   "cell_type": "code",
   "execution_count": null,
   "metadata": {},
   "outputs": [],
   "source": [
    "viejo = ['FireplaceQu', 'BsmtSFPoints', 'TotalBsmtSF', 'GarageArea', 'GarageCars', 'OverallQual', 'GrLivArea', \n",
    "               'TotalBsmtSF_x_Bsm', '1stFlrSF', 'PoolArea', 'LotArea', 'SaleCondition_Partial', 'Exterior1st_VinylSd',\n",
    "               'GarageCond', 'HouseStyle_2Story', 'BsmtSFMultPoints', 'ScreenPorch', 'LowQualFinSF', 'BsmtFinSF2',\n",
    "               'TSsnPorch']"
   ]
  },
  {
   "cell_type": "code",
   "execution_count": null,
   "metadata": {},
   "outputs": [],
   "source": [
    "####ANALISIS DE VIF \n",
    "##Anbalizaremos el train set completo, eliminando las features con alto VIF y luego el test set será\n",
    "#actualizado en sus columnas para que coindida con lo que obtengamos en esta etapa"
   ]
  },
  {
   "cell_type": "code",
   "execution_count": null,
   "metadata": {},
   "outputs": [],
   "source": [
    "y_train.shape"
   ]
  },
  {
   "cell_type": "code",
   "execution_count": null,
   "metadata": {},
   "outputs": [],
   "source": [
    "#Creamos un nuevo x_train con las columnas seleccionadas. Ese sera el que se usara para modelar y del que se extraeran las variables recursivamente\n",
    "train = all_data.iloc[:len(y_train), :]\n",
    "x_train_rfe = train\n",
    "x_train_rfe.shape"
   ]
  },
  {
   "cell_type": "code",
   "execution_count": null,
   "metadata": {},
   "outputs": [],
   "source": [
    "#Evaluamos en base a p-value y VIF\n",
    "\n",
    "#Adding a constant and building the first fitted model\n",
    "import statsmodels.api as sm\n",
    "x_train_rfec = sm.add_constant(x_train_rfe)\n",
    "lm_rfe = sm.OLS(y_train, x_train_rfec).fit()\n"
   ]
  },
  {
   "cell_type": "code",
   "execution_count": null,
   "metadata": {},
   "outputs": [],
   "source": [
    "#Generate a summary of the fitted model...\n",
    "#print(lm_rfe.summary())"
   ]
  },
  {
   "cell_type": "code",
   "execution_count": null,
   "metadata": {},
   "outputs": [],
   "source": [
    "###Generate the VIF para esta vuelta\n",
    "series_1 = pd.Series([variance_inflation_factor(x_train_rfe.values, i) for i in range(x_train_rfe.shape[1])], index = x_train_rfe.columns) #se usa el xtrain sin la constante\n",
    "series_1 = series_1.sort_values(ascending = False)\n",
    "series_1"
   ]
  },
  {
   "cell_type": "code",
   "execution_count": null,
   "metadata": {},
   "outputs": [],
   "source": [
    "##Eliminamos los features con VIF inf UNO POR CATEGORIA (exterior solo 1)\n",
    "x_train_rfe_1 = x_train_rfe.drop(columns = [\"Heating_GasA\" ]  , axis = 1)"
   ]
  },
  {
   "cell_type": "code",
   "execution_count": null,
   "metadata": {},
   "outputs": [],
   "source": [
    "#Repetimos el procedimiento...\n",
    "#Add constant and fit the model\n",
    "x_train_rfec_1 = sm.add_constant(x_train_rfe_1)\n",
    "lm_rfe_1 = sm.OLS(y_train, x_train_rfec_1).fit()"
   ]
  },
  {
   "cell_type": "code",
   "execution_count": null,
   "metadata": {},
   "outputs": [],
   "source": [
    "#Summary of the model\n",
    "#print(lm_rfe_1.summary())"
   ]
  },
  {
   "cell_type": "code",
   "execution_count": null,
   "metadata": {},
   "outputs": [],
   "source": [
    "#VIF\n",
    "series_2 = pd.Series([variance_inflation_factor(x_train_rfe_1.values, i) for i in range(x_train_rfe_1.shape[1])], index = x_train_rfe_1.columns) #se usa el xtrain sin la constante\n",
    "series_2 = series_2.sort_values(ascending = False)\n",
    "series_2"
   ]
  },
  {
   "cell_type": "code",
   "execution_count": null,
   "metadata": {},
   "outputs": [],
   "source": [
    "##Send file for testing so far\n",
    "data_1 = all_data[x_train_rfe_1.columns]\n",
    "%store data_1"
   ]
  },
  {
   "cell_type": "code",
   "execution_count": null,
   "metadata": {},
   "outputs": [],
   "source": [
    "#Elimino todos los features en col_h UNO POR CATEGORIA\n",
    "x_train_rfe_2 = x_train_rfe_1.drop(columns = [\"Street\"], axis = 1)"
   ]
  },
  {
   "cell_type": "code",
   "execution_count": null,
   "metadata": {},
   "outputs": [],
   "source": [
    "#Repetimos el procedimiento...\n",
    "\n",
    "#Add constant and fit the model\n",
    "x_train_rfec_2 = sm.add_constant(x_train_rfe_2)\n",
    "lm_rfe_2 = sm.OLS(y_train, x_train_rfec_2).fit()\n",
    "\n",
    "#Summary of the model\n",
    "#print(lm_rfe_2.summary())"
   ]
  },
  {
   "cell_type": "code",
   "execution_count": null,
   "metadata": {},
   "outputs": [],
   "source": [
    "#VIF 2\n",
    "series_3 = pd.Series([variance_inflation_factor(x_train_rfe_2.values, i) for i in range(x_train_rfe_2.shape[1])], index = x_train_rfe_2.columns) #se usa el xtrain sin la constante\n",
    "series_3 = series_3.sort_values(ascending = False)\n",
    "series_3\n"
   ]
  },
  {
   "cell_type": "code",
   "execution_count": null,
   "metadata": {},
   "outputs": [],
   "source": [
    "##Send file for testing so far\n",
    "data_2 = all_data[x_train_rfe_2.columns]\n",
    "%store data_2"
   ]
  },
  {
   "cell_type": "code",
   "execution_count": null,
   "metadata": {},
   "outputs": [],
   "source": [
    "#Elimino todos los features en col_h UNO POR CATEGORIA\n",
    "x_train_rfe_3 = x_train_rfe_2.drop(columns = [ \"TotalExtraPoints\",\"PoolQC\",\"FireplaceQu\", \"HeatingQC\", \"KitchenQual\"], axis = 1)"
   ]
  },
  {
   "cell_type": "code",
   "execution_count": null,
   "metadata": {},
   "outputs": [],
   "source": [
    "#Repetimos el procedimiento...\n",
    "\n",
    "#Add constant and fit the model\n",
    "x_train_rfec_3 = sm.add_constant(x_train_rfe_3)\n",
    "lm_rfe_3 = sm.OLS(y_train, x_train_rfec_3).fit()\n",
    "\n",
    "#Summary of the model\n",
    "#print(lm_rfe_3.summary())"
   ]
  },
  {
   "cell_type": "code",
   "execution_count": null,
   "metadata": {},
   "outputs": [],
   "source": [
    "#VIF 3\n",
    "series_4 = pd.Series([variance_inflation_factor(x_train_rfe_3.values, i) for i in range(x_train_rfe_3.shape[1])], index = x_train_rfe_3.columns) #se usa el xtrain sin la constante\n",
    "series_4 = series_4.sort_values(ascending = False)\n",
    "series_4"
   ]
  },
  {
   "cell_type": "code",
   "execution_count": null,
   "metadata": {},
   "outputs": [],
   "source": [
    "##Send file for testing so far\n",
    "data_3 = all_data[x_train_rfe_3.columns]\n",
    "%store data_3"
   ]
  },
  {
   "cell_type": "code",
   "execution_count": null,
   "metadata": {},
   "outputs": [],
   "source": [
    "#Elimino FullBath por alto valor \n",
    "x_train_rfe_4 = x_train_rfe_3.drop(columns =[\"ConstructArea\", \"GrLivArea\", \"LandSlope\", \"BsmtUnfSF\"], axis = 1)\n",
    "\n",
    "#Repetimos el procedimiento...\n",
    "\n",
    "#Add constant and fit the model\n",
    "x_train_rfec_4 = sm.add_constant(x_train_rfe_4)\n",
    "lm_rfe_4 = sm.OLS(y_train, x_train_rfec_4).fit()\n",
    "\n",
    "#Summary of the model\n",
    "#print(lm_rfe_4.summary())"
   ]
  },
  {
   "cell_type": "code",
   "execution_count": null,
   "metadata": {},
   "outputs": [],
   "source": [
    "#VIF 4\n",
    "\n",
    "series_5 = pd.Series([variance_inflation_factor(x_train_rfe_4.values, i) for i in range(x_train_rfe_4.shape[1])], index = x_train_rfe_4.columns) #se usa el xtrain sin la constante\n",
    "series_5 = series_5.sort_values(ascending = False)\n",
    "series_5"
   ]
  },
  {
   "cell_type": "code",
   "execution_count": null,
   "metadata": {},
   "outputs": [],
   "source": [
    "##Send file for testing so far\n",
    "data_4 = all_data[x_train_rfe_4.columns]\n",
    "%store data_4"
   ]
  },
  {
   "cell_type": "code",
   "execution_count": null,
   "metadata": {},
   "outputs": [],
   "source": [
    "#Elimino otro alto VIF\n",
    "x_train_rfe_5 = x_train_rfe_4.drop(columns = [\"Condition2_Norm\", \"BsmtSFPoints\", 'FullBath', 'MSZoning_RL', 'Functional',\"BsmtSFMultPoints\",'ExterQual', 'GarageQual', 'TotalPoints', 'ExterCond','GarageType_Attchd',\"BsmtCond\"], axis = 1)\n",
    "\n",
    "#Repetimos el procedimiento...\n",
    "\n",
    "#Add constant and fit the model\n",
    "x_train_rfec_5 = sm.add_constant(x_train_rfe_5)\n",
    "lm_rfe_5 = sm.OLS(y_train, x_train_rfec_5).fit()\n",
    "\n",
    "#Summary of the model\n",
    "#print(lm_rfe_5.summary())\n",
    "\n"
   ]
  },
  {
   "cell_type": "code",
   "execution_count": null,
   "metadata": {},
   "outputs": [],
   "source": [
    "#VIF 5\n",
    "\n",
    "series_6 = pd.Series([variance_inflation_factor(x_train_rfe_5.values, i) for i in range(x_train_rfe_5.shape[1])], index = x_train_rfe_5.columns) #se usa el xtrain sin la constante\n",
    "series_6 = series_6.sort_values(ascending = False)\n",
    "series_6"
   ]
  },
  {
   "cell_type": "code",
   "execution_count": null,
   "metadata": {},
   "outputs": [],
   "source": [
    "##Send file for testing so far\n",
    "data_5 = all_data[x_train_rfe_5.columns]\n",
    "%store data_5"
   ]
  },
  {
   "cell_type": "code",
   "execution_count": null,
   "metadata": {},
   "outputs": [],
   "source": [
    "#eliminamos HalfBath  \n",
    "x_train_rfe_6 = x_train_rfe_5.drop(columns = [\"GrLivArea\",\"BsmtSFPoints\", \"BsmtSFMultPoints\",\"TotalBsmtSF_x_Bsm\",\"TotRmsAbvGrd\"], axis = 1)\n",
    "\n",
    "#Add constant and fit the model\n",
    "x_train_rfec_6 = sm.add_constant(x_train_rfe_6)\n",
    "lm_rfe_6 = sm.OLS(y_train, x_train_rfec_6).fit()"
   ]
  },
  {
   "cell_type": "code",
   "execution_count": null,
   "metadata": {},
   "outputs": [],
   "source": [
    "#VIF 6\n",
    "\n",
    "series_7 = pd.Series([variance_inflation_factor(x_train_rfe_6.values, i) for i in range(x_train_rfe_6.shape[1])], index = x_train_rfe_6.columns) #se usa el xtrain sin la constante\n",
    "series_7 = series_7.sort_values(ascending = False)\n",
    "series_7"
   ]
  },
  {
   "cell_type": "code",
   "execution_count": null,
   "metadata": {},
   "outputs": [],
   "source": [
    "##Testing dataset so far\n",
    "data_5 = all_data[x_train_rfe_6.columns]\n",
    "%store data_5"
   ]
  },
  {
   "cell_type": "code",
   "execution_count": null,
   "metadata": {},
   "outputs": [],
   "source": [
    "#eliminamos BsmtHalfBath  \n",
    "x_train_rfe_7 = x_train_rfe_6.drop(columns = [\"HouseStyle_1Story\", \"KitchenQual\",\"MasVnrType_None\",\"TotBathrooms\",\"LotShape\", \"PavedDrive\", \"KitchenAbvGr\",\"OverallCond\"] , axis = 1)\n",
    "\n",
    "#Add constant and fit the model\n",
    "x_train_rfec_7 = sm.add_constant(x_train_rfe_7)\n",
    "lm_rfe_7 = sm.OLS(y_train, x_train_rfec_7).fit()"
   ]
  },
  {
   "cell_type": "code",
   "execution_count": null,
   "metadata": {},
   "outputs": [],
   "source": [
    "#VIF 7\n",
    "\n",
    "series_8 = pd.Series([variance_inflation_factor(x_train_rfe_7.values, i) for i in range(x_train_rfe_7.shape[1])], index = x_train_rfe_7.columns) #se usa el xtrain sin la constante\n",
    "series_8 = series_8.sort_values(ascending = False)\n",
    "series_8"
   ]
  },
  {
   "cell_type": "code",
   "execution_count": null,
   "metadata": {},
   "outputs": [],
   "source": [
    "#eliminamos SaleCondition_Partial \n",
    "x_train_rfe_8 = x_train_rfe_7.drop(columns = [\"Street\", \"Condition2_Norm\"], axis = 1)\n",
    "\n",
    "#Add constant and fit the model\n",
    "x_train_rfec_8 = sm.add_constant(x_train_rfe_8)\n",
    "lm_rfe_8 = sm.OLS(y_train, x_train_rfec_8).fit()"
   ]
  },
  {
   "cell_type": "code",
   "execution_count": null,
   "metadata": {},
   "outputs": [],
   "source": [
    "#VIF 8\n",
    "\n",
    "series_9 = pd.Series([variance_inflation_factor(x_train_rfe_8.values, i) for i in range(x_train_rfe_8.shape[1])], index = x_train_rfe_8.columns) #se usa el xtrain sin la constante\n",
    "series_9 = series_9.sort_values(ascending = False)\n",
    "series_9"
   ]
  },
  {
   "cell_type": "code",
   "execution_count": null,
   "metadata": {},
   "outputs": [],
   "source": [
    "#eliminamos 2ndFlrSF   \n",
    "x_train_rfe_9 = x_train_rfe_8.drop(columns = [\"ExterCond\", \"GarageQual\"], axis = 1)\n",
    "\n",
    "#Add constant and fit the model\n",
    "x_train_rfec_9 = sm.add_constant(x_train_rfe_9)\n",
    "lm_rfe_9 = sm.OLS(y_train, x_train_rfec_9).fit()"
   ]
  },
  {
   "cell_type": "code",
   "execution_count": null,
   "metadata": {},
   "outputs": [],
   "source": [
    "#VIF 9\n",
    "\n",
    "series_10 = pd.Series([variance_inflation_factor(x_train_rfe_9.values, i) for i in range(x_train_rfe_9.shape[1])], index = x_train_rfe_9.columns) #se usa el xtrain sin la constante\n",
    "series_10 = series_10.sort_values(ascending = False)\n",
    "series_10"
   ]
  },
  {
   "cell_type": "code",
   "execution_count": null,
   "metadata": {},
   "outputs": [],
   "source": [
    "#eliminamos 1stFlrSF   \n",
    "x_train_rfe_10 = x_train_rfe_9.drop(columns = [\"FullBath\", \"Functional\"], axis = 1)\n",
    "\n",
    "#Add constant and fit the model\n",
    "x_train_rfec_10 = sm.add_constant(x_train_rfe_10)\n",
    "lm_rfe_10 = sm.OLS(y_train, x_train_rfec_10).fit()"
   ]
  },
  {
   "cell_type": "code",
   "execution_count": null,
   "metadata": {},
   "outputs": [],
   "source": [
    "#VIF 10\n",
    "\n",
    "series_11 = pd.Series([variance_inflation_factor(x_train_rfe_10.values, i) for i in range(x_train_rfe_10.shape[1])], index = x_train_rfe_10.columns) #se usa el xtrain sin la constante\n",
    "series_11 = series_11.sort_values(ascending = False)\n",
    "series_11"
   ]
  },
  {
   "cell_type": "code",
   "execution_count": null,
   "metadata": {},
   "outputs": [],
   "source": [
    "\n",
    "cols_construct = [ \"MasVnrArea\" ,  \"OpenPorchSF\",\"3SsnPorch\" , \"ScreenPorch\" , \"EnclosedPorch\"] \n",
    "                    "
   ]
  },
  {
   "cell_type": "code",
   "execution_count": null,
   "metadata": {},
   "outputs": [],
   "source": [
    "#eliminamos New_FlSF  \n",
    "x_train_rfe_11 = x_train_rfe_10.drop(columns = cols_construct, axis = 1)\n",
    "\n",
    "#Add constant and fit the model\n",
    "x_train_rfec_11 = sm.add_constant(x_train_rfe_11)\n",
    "lm_rfe_11 = sm.OLS(y_train, x_train_rfec_11).fit()"
   ]
  },
  {
   "cell_type": "code",
   "execution_count": null,
   "metadata": {},
   "outputs": [],
   "source": [
    "#VIF 11\n",
    "\n",
    "series_12 = pd.Series([variance_inflation_factor(x_train_rfe_11.values, i) for i in range(x_train_rfe_11.shape[1])], index = x_train_rfe_11.columns) #se usa el xtrain sin la constante\n",
    "series_12 = series_12.sort_values(ascending = False)\n",
    "series_12"
   ]
  },
  {
   "cell_type": "code",
   "execution_count": null,
   "metadata": {},
   "outputs": [],
   "source": [
    "##\n",
    "#eliminamos Todos los inf \n",
    "x_train_rfe_12 = x_train_rfe_11.drop(columns = [\"BsmtCond\", \"LandSlope\", \"MSZoning_RL\", \"LotShape\"], axis = 1)\n",
    "\n",
    "#Add constant and fit the model\n",
    "x_train_rfec_12 = sm.add_constant(x_train_rfe_12)\n",
    "lm_rfe_12 = sm.OLS(y_train, x_train_rfec_12).fit()"
   ]
  },
  {
   "cell_type": "code",
   "execution_count": null,
   "metadata": {},
   "outputs": [],
   "source": [
    "#VIF 12\n",
    "\n",
    "series_13 = pd.Series([variance_inflation_factor(x_train_rfe_12.values, i) for i in range(x_train_rfe_12.shape[1])], index = x_train_rfe_12.columns) #se usa el xtrain sin la constante\n",
    "series_13 = series_13.sort_values(ascending = False)\n",
    "series_13"
   ]
  },
  {
   "cell_type": "code",
   "execution_count": null,
   "metadata": {},
   "outputs": [],
   "source": [
    "vif_col = list(x_train_rfec_12.columns)\n",
    "vif_col.remove(\"const\")\n"
   ]
  },
  {
   "cell_type": "code",
   "execution_count": null,
   "metadata": {},
   "outputs": [],
   "source": [
    "##Envío este dataset para probarlo en el módulo de models\n",
    "all_data_2 = all_data[vif_col]\n",
    "%store all_data_2"
   ]
  },
  {
   "cell_type": "code",
   "execution_count": null,
   "metadata": {},
   "outputs": [],
   "source": []
  },
  {
   "cell_type": "code",
   "execution_count": null,
   "metadata": {},
   "outputs": [],
   "source": []
  },
  {
   "cell_type": "code",
   "execution_count": null,
   "metadata": {},
   "outputs": [],
   "source": []
  },
  {
   "cell_type": "code",
   "execution_count": null,
   "metadata": {},
   "outputs": [],
   "source": []
  }
 ],
 "metadata": {
  "kernelspec": {
   "display_name": "Python 3",
   "language": "python",
   "name": "python3"
  },
  "language_info": {
   "codemirror_mode": {
    "name": "ipython",
    "version": 3
   },
   "file_extension": ".py",
   "mimetype": "text/x-python",
   "name": "python",
   "nbconvert_exporter": "python",
   "pygments_lexer": "ipython3",
   "version": "3.7.6"
  },
  "toc": {
   "base_numbering": 1,
   "nav_menu": {},
   "number_sections": true,
   "sideBar": true,
   "skip_h1_title": false,
   "title_cell": "Table of Contents",
   "title_sidebar": "Contents",
   "toc_cell": false,
   "toc_position": {},
   "toc_section_display": true,
   "toc_window_display": false
  }
 },
 "nbformat": 4,
 "nbformat_minor": 4
}
