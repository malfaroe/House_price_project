{
 "cells": [
  {
   "cell_type": "code",
   "execution_count": 4,
   "metadata": {},
   "outputs": [],
   "source": [
    "##Import libraries \n",
    "\n",
    "import pandas as pd\n",
    "import numpy as np\n",
    "import matplotlib.pyplot as plt\n",
    "import seaborn as sns\n",
    "import warnings\n",
    "warnings.filterwarnings(\"ignore\")\n",
    "from datetime import datetime, timedelta\n",
    "\n",
    "# import all libraries and dependencies for data visualization\n",
    "pd.options.display.float_format='{:.4f}'.format\n",
    "plt.rcParams['figure.figsize'] = [8,8]\n",
    "pd.set_option('display.max_columns', 350)\n",
    "pd.set_option('display.max_colwidth', -1) \n",
    "pd.set_option(\"display.max_rows\", 500)\n",
    "sns.set(style='darkgrid')\n",
    "import matplotlib.ticker as ticker\n",
    "import matplotlib.ticker as plticker\n",
    "\n",
    "\n",
    "# import all libraries and dependencies for machine learning\n",
    "from sklearn.model_selection import train_test_split\n",
    "from sklearn import preprocessing\n",
    "from sklearn.base import TransformerMixin\n",
    "from sklearn.model_selection import train_test_split\n",
    "from sklearn.preprocessing import MinMaxScaler\n",
    "from sklearn.preprocessing import OrdinalEncoder\n",
    "from sklearn.preprocessing import LabelEncoder\n",
    "from sklearn.preprocessing import OneHotEncoder\n",
    "from sklearn.preprocessing import RobustScaler \n",
    "from sklearn.preprocessing import StandardScaler\n",
    "\n",
    "from sklearn.compose import make_column_transformer\n",
    "\n",
    "\n",
    "import statsmodels.api as sm\n",
    "from sklearn.feature_selection import RFE\n",
    "from sklearn.linear_model import LinearRegression\n",
    "from sklearn.linear_model import LinearRegression, OrthogonalMatchingPursuit, Lasso, LassoLarsIC, ElasticNet, ElasticNetCV\n",
    "from statsmodels.stats.outliers_influence import variance_inflation_factor\n",
    "from sklearn.metrics import mean_squared_error, r2_score\n",
    "from sklearn.preprocessing import PolynomialFeatures\n",
    "from sklearn.feature_selection import f_regression, mutual_info_regression, SelectKBest, RFECV, SelectFromModel\n",
    "\n",
    "\n",
    "from scipy import stats\n",
    "from scipy.stats import norm, kurtosis, skew\n",
    "\n",
    "# Import specific libraries\n",
    "import statsmodels.api as sm\n",
    "from statsmodels.stats import diagnostic as diag\n",
    "from statsmodels.stats.outliers_influence import variance_inflation_factor\n",
    "\n",
    "\n",
    "\n",
    "# Stats\n",
    "from scipy.stats import skew, norm\n",
    "from scipy.special import boxcox1p\n",
    "from scipy.stats import boxcox_normmax\n",
    "\n",
    "from scipy import stats\n",
    "from scipy.stats import skew, norm, probplot, boxcox\n",
    "from scipy.special import boxcox1p\n",
    "from patsy import dmatrices\n",
    "\n",
    "pd.set_option('expand_frame_repr', False)"
   ]
  },
  {
   "cell_type": "code",
   "execution_count": 5,
   "metadata": {},
   "outputs": [],
   "source": [
    "%store -r X\n",
    "%store -r y_train"
   ]
  },
  {
   "cell_type": "code",
   "execution_count": null,
   "metadata": {},
   "outputs": [],
   "source": []
  },
  {
   "cell_type": "code",
   "execution_count": 6,
   "metadata": {},
   "outputs": [],
   "source": [
    "data = pd.concat((X,y_train), axis =1)"
   ]
  },
  {
   "cell_type": "code",
   "execution_count": 7,
   "metadata": {},
   "outputs": [
    {
     "data": {
      "text/plain": [
       "(1449, 189)"
      ]
     },
     "execution_count": 7,
     "metadata": {},
     "output_type": "execute_result"
    }
   ],
   "source": [
    "data.shape"
   ]
  },
  {
   "cell_type": "code",
   "execution_count": 12,
   "metadata": {},
   "outputs": [
    {
     "name": "stdout",
     "output_type": "stream",
     "text": [
      "Cost iteration number 0 : [74.33053]\n",
      "---------------------------------------------\n",
      "\n",
      "Final results for 100000 iterations:\n",
      "··············································\n",
      "Initial cost: [74.33053]\n",
      "Final cost: [24077671.62575]\n",
      "Iteration of minimum: 0\n",
      "MSE for training set : 47902847.32\n",
      "MSE for test set : 51149322.1\n",
      "\n",
      "My R2 for Training Set: -307062201.9556\n",
      "My R2 for Test Set: -306329275.6718\n",
      "\n",
      "My final betas: [[ 1.64573649e+04]\n",
      " [-1.12370396e+03]\n",
      " [-9.29857365e+03]\n",
      " [-1.84419932e+03]\n",
      " [-4.85053428e+03]\n",
      " [ 8.35977711e+02]\n",
      " [-2.18117105e+03]\n",
      " [ 1.08071005e+03]\n",
      " [ 1.81308818e+03]\n",
      " [ 7.28614586e+02]\n",
      " [-9.63424951e+03]\n",
      " [-3.76127253e+03]\n",
      " [ 2.14837178e+00]\n",
      " [ 1.14906873e+03]\n",
      " [-2.18218796e+03]\n",
      " [-7.82458787e+03]\n",
      " [-6.23658576e+03]\n",
      " [-6.34253871e+03]\n",
      " [ 3.56079709e+01]\n",
      " [-3.11583167e+03]\n",
      " [-9.52428242e+03]\n",
      " [-8.25614804e+01]\n",
      " [-1.42714857e+03]\n",
      " [-1.00002793e+04]\n",
      " [-1.83930159e+02]\n",
      " [ 4.01335374e+02]\n",
      " [-1.49723872e+03]\n",
      " [-5.58103755e+03]\n",
      " [-1.47540541e+03]\n",
      " [-1.51381766e+03]\n",
      " [-2.78063252e+03]\n",
      " [-3.37621822e+03]\n",
      " [-1.15164851e+03]\n",
      " [-9.95340097e+03]\n",
      " [-8.20729735e+03]\n",
      " [-3.42501460e+02]\n",
      " [ 2.39614476e+03]\n",
      " [ 6.87995699e+03]\n",
      " [-4.13074851e+03]\n",
      " [ 6.20234413e+02]\n",
      " [-5.40095079e+03]\n",
      " [-3.20528491e+02]\n",
      " [ 1.09086223e+03]\n",
      " [-7.70966066e+03]\n",
      " [-9.36041173e+03]\n",
      " [-1.03604888e+04]\n",
      " [-5.09892272e+03]\n",
      " [-7.61533182e+03]\n",
      " [-8.39875295e+03]\n",
      " [-8.17844565e+03]\n",
      " [-5.69300674e+03]\n",
      " [-6.81837113e+03]\n",
      " [-9.71855012e+03]\n",
      " [-6.74666661e+03]\n",
      " [-7.89475930e+03]\n",
      " [-6.00767944e+03]\n",
      " [-5.97007658e+03]\n",
      " [-8.57217757e+03]\n",
      " [-1.74296415e+03]\n",
      " [-8.93917939e+03]\n",
      " [-9.16768313e+03]\n",
      " [-8.76399119e+03]\n",
      " [-1.03577047e+04]\n",
      " [-5.61986676e+03]\n",
      " [-7.04153176e+03]\n",
      " [-5.20049025e+03]\n",
      " [-9.37971887e+03]\n",
      " [-4.70698401e+03]\n",
      " [-1.09739562e+04]\n",
      " [-9.93381021e+03]\n",
      " [-9.81123377e+03]\n",
      " [-6.96242854e+03]\n",
      " [-8.74176022e+03]\n",
      " [-1.15713675e+04]\n",
      " [-7.11379105e+03]\n",
      " [-7.92079690e+03]\n",
      " [-1.04947662e+04]\n",
      " [-1.02493180e+04]\n",
      " [-7.39673929e+03]\n",
      " [-7.85679986e+03]\n",
      " [-6.97695711e+03]\n",
      " [-9.65833576e+03]\n",
      " [-8.12995872e+03]\n",
      " [-8.42024690e+03]\n",
      " [-8.17606456e+03]\n",
      " [-8.72770062e+03]\n",
      " [-8.65235782e+03]\n",
      " [-7.30491128e+03]\n",
      " [-5.51524408e+03]\n",
      " [-1.06699811e+04]\n",
      " [-9.43334672e+03]\n",
      " [-8.37031447e+03]\n",
      " [-8.80446742e+03]\n",
      " [-9.68019959e+03]\n",
      " [-8.61282140e+03]\n",
      " [-1.10417354e+04]\n",
      " [-9.17927304e+03]\n",
      " [-1.03844450e+04]\n",
      " [-9.92038565e+03]\n",
      " [-1.02562428e+04]\n",
      " [-9.52974731e+03]\n",
      " [-1.00348483e+04]\n",
      " [-9.43190331e+03]\n",
      " [-9.68243965e+03]\n",
      " [-1.00000000e+04]\n",
      " [-6.19448906e+03]\n",
      " [-5.45701424e+03]\n",
      " [-3.10360306e+03]\n",
      " [-9.19393700e+03]\n",
      " [-8.68623919e+03]\n",
      " [-4.90451468e+03]\n",
      " [-3.86640500e+03]\n",
      " [-9.01705084e+03]\n",
      " [-5.73502860e+02]\n",
      " [-9.25073451e+03]\n",
      " [-1.01891462e+04]\n",
      " [-1.02740578e+04]\n",
      " [-9.29202001e+03]\n",
      " [-1.00345970e+04]\n",
      " [-9.74689585e+03]\n",
      " [-8.01991075e+03]\n",
      " [-1.00000000e+04]\n",
      " [-9.87807654e+03]\n",
      " [-5.71739381e+03]\n",
      " [-3.69622704e+03]\n",
      " [-3.35196934e+03]\n",
      " [-4.45581437e+03]\n",
      " [-6.89112672e+03]\n",
      " [-2.41233464e+03]\n",
      " [-7.11985152e+03]\n",
      " [-6.86704733e+03]\n",
      " [-9.66493735e+03]\n",
      " [-9.52976534e+03]\n",
      " [-7.86524354e+03]\n",
      " [-2.96575265e+03]\n",
      " [-3.11732671e+03]\n",
      " [-9.15928039e+03]\n",
      " [-5.79774396e+03]\n",
      " [-3.70353495e+03]\n",
      " [-9.42722246e+03]\n",
      " [-7.88390600e+03]\n",
      " [-5.03233674e+03]\n",
      " [-5.99191025e+03]\n",
      " [-2.76632998e+03]\n",
      " [-5.26064793e+03]\n",
      " [-1.07458646e+03]\n",
      " [ 5.78030849e+02]\n",
      " [-1.00750209e+04]\n",
      " [-9.46107190e+03]\n",
      " [-9.39098920e+03]\n",
      " [-1.04023810e+04]\n",
      " [-8.92939945e+03]\n",
      " [-1.02382256e+04]\n",
      " [-1.02500403e+04]\n",
      " [-4.07954459e+03]\n",
      " [-7.77685834e+03]\n",
      " [-1.05351339e+04]\n",
      " [-5.82264792e+03]\n",
      " [-2.07800180e+03]\n",
      " [-9.42864026e+03]\n",
      " [-2.73715586e+03]\n",
      " [-7.44599690e+03]\n",
      " [-9.91814920e+03]\n",
      " [-8.24418381e+03]\n",
      " [-4.50252141e+03]\n",
      " [-7.07301355e+03]\n",
      " [-9.35521351e+03]\n",
      " [-6.91593281e+03]\n",
      " [-6.84589385e+03]\n",
      " [-6.21393505e+03]\n",
      " [-6.89675649e+03]\n",
      " [-5.72301403e+03]\n",
      " [-6.94692206e+03]\n",
      " [-6.36056471e+03]\n",
      " [-6.70610139e+03]\n",
      " [-6.61873599e+03]\n",
      " [-9.55802880e+03]\n",
      " [-9.81624582e+03]\n",
      " [-9.82244697e+03]\n",
      " [-9.28135276e+03]\n",
      " [-9.94657190e+03]\n",
      " [-9.69196604e+03]\n",
      " [-5.74305488e+03]\n",
      " [-3.29781684e+03]\n",
      " [-9.48960585e+03]\n",
      " [-8.53626109e+03]\n",
      " [-7.55572508e+03]\n",
      " [ 9.49025170e+02]\n",
      " [-6.94423724e+03]]\n",
      "Intercept: 16457.3649463357\n",
      "Coefficients: [-1123.70395542]\n",
      "                        \n",
      "Comparison with Sklearn results:\n",
      "·································\n",
      "Intercept Sklearn: [11.91053379]\n",
      "Coefficients Sklearn: [[-1.33366744e-15  8.38020404e-03  1.65606351e-01  7.74135227e-03\n",
      "  -3.32825296e-02  4.19491185e-02 -8.26926566e-02 -1.05177249e-02\n",
      "  -1.06720792e-01 -1.01617340e-02 -7.54481932e-02  1.31123957e-02\n",
      "  -8.47264840e-04  5.62285333e-03  3.51203799e-02 -8.51517213e-02\n",
      "   2.31830693e-02  2.31101359e-02 -1.69257085e-03 -2.25898792e-02\n",
      "   9.72004703e-02  2.39817718e-02 -7.69105546e-03 -2.22694404e-01\n",
      "   2.31664860e-02  1.97572121e-02  1.98693006e-02  2.28563760e-02\n",
      "   1.03103602e-02  5.77488996e-03  6.38343809e-03  2.98858452e-03\n",
      "  -1.56571750e-02  2.50275672e-01 -1.29898504e-01  7.15164281e-03\n",
      "   1.03636306e-01 -4.21646920e-03  1.27297801e-02  2.04800404e-01\n",
      "  -2.31767629e-02  3.64347749e-02  1.81902745e-02  4.40583214e-02\n",
      "  -4.63663836e-03  1.53448490e-01 -7.57315615e-05  4.68895188e-02\n",
      "   1.17783402e-01  8.59568548e-02 -1.85612082e-03 -2.91350410e-02\n",
      "   6.87526489e-03 -2.45243536e-03  3.46741187e-02 -1.01897730e-02\n",
      "   8.70825772e-02 -2.58125202e-03  1.71571021e-02 -9.41067387e-03\n",
      "   1.37056796e-02  1.71223415e-02  9.55740262e-04  5.38941417e-03\n",
      "   2.73965865e-02 -4.43497912e-02 -1.78730620e-01 -9.01588193e-03\n",
      "   8.45829152e-02 -5.05304785e-04 -1.75540030e-02  7.59711642e-02\n",
      "   7.64067101e-02  2.60539338e-02  1.49435650e-01 -2.21581333e-02\n",
      "   3.37496811e-02 -5.06010398e-02 -1.04913782e-01 -1.13521187e-02\n",
      "   1.45818974e-02  1.40131153e-01  1.10863641e-01  1.26718332e-01\n",
      "  -2.63489881e-02 -2.49680214e-03  2.88084867e-02  5.40362500e-02\n",
      "   6.66118790e-03  1.94933881e-01  3.89676797e-02  7.82582917e-02\n",
      "  -1.10843023e-01 -7.09200634e-02 -2.81561218e-02 -4.96242940e-02\n",
      "  -1.62413558e-01 -3.09200328e-02 -1.18142420e-01  6.32702759e-02\n",
      "   7.10624045e-02 -9.44643331e-03  2.21751106e-02  1.19037473e-01\n",
      "  -6.66133815e-16  2.93335766e-04 -1.42091209e-02  6.78938512e-02\n",
      "   6.24183632e-02  5.26887214e-02  7.34433426e-02  5.74779001e-02\n",
      "   7.76732420e-03  3.43141094e-03  6.04877775e-02  1.46948216e-01\n",
      "  -1.30641008e-01 -5.87120808e-02 -1.78960261e-01 -3.72851654e-02\n",
      "  -5.31304204e-02  1.96023753e-16 -5.10729821e-01  8.41798467e-02\n",
      "  -6.31258341e-02 -2.63104064e-02 -3.34301015e-02  6.98759191e-02\n",
      "  -3.98670694e-02  6.45717639e-05  2.62074476e-02 -1.79936771e-02\n",
      "   1.19264106e-02 -3.40627645e-04  9.26264290e-02  1.50768954e-02\n",
      "   2.46220649e-02  9.13516795e-03  1.40574512e-02  7.86897552e-02\n",
      "  -4.60131747e-02  4.66523413e-02 -1.17115526e-02  8.40308489e-02\n",
      "   1.34019174e-01 -2.93651127e-02  1.52058631e-02  1.37155851e-01\n",
      "  -7.63122673e-02 -7.33481024e-02  4.82347427e-02  7.03359409e-02\n",
      "   1.62602575e-02 -2.88567043e-02  6.17559463e-03 -1.53559359e-02\n",
      "   5.70977764e-02 -3.87135029e-02  9.93984440e-03 -7.60277597e-02\n",
      "   2.88154052e-03  9.19927538e-02 -1.59505325e-01  4.02742840e-02\n",
      "   2.22248107e-02  1.28755272e-02  1.92721357e-03  1.24297331e-02\n",
      "   3.21770664e-02  3.38179377e-02  2.47032915e-02  2.19054893e-02\n",
      "   2.88789282e-02  2.27024559e-03  6.54711026e-03  2.69556176e-02\n",
      "   9.84501206e-02  6.08886115e-02  2.33327268e-02 -1.93257151e-02\n",
      "  -4.61326459e-02  6.00915677e-02 -4.52681135e-02 -9.36312176e-02\n",
      "   9.93379551e-02 -3.00368404e-02 -4.75769243e-02 -6.81680742e-03\n",
      "  -1.52187859e-02]]\n",
      "Sklearn R2 - Score: 0.9065451585506651\n",
      "                        \n",
      "Plotting Cost Function Evolution:\n",
      "··································\n"
     ]
    },
    {
     "data": {
      "image/png": "[encoded data removed]",
      "text/plain": [
       "<Figure size 576x576 with 1 Axes>"
      ]
     },
     "metadata": {},
     "output_type": "display_data"
    }
   ],
   "source": [
    "import LASSO_module_mae as mae\n",
    "ls = mae.LASSO(dataset = data, n_iter = 100000 , alpha = 0.0005, lmbd = 0.1)\n",
    "ls.regressor(summary = False)"
   ]
  },
  {
   "cell_type": "code",
   "execution_count": null,
   "metadata": {},
   "outputs": [],
   "source": [
    "import lr_module_mae as mae\n",
    "ls = mae.Linear_Regression(dataset = data, n_iter = 10000 , alpha = 0.005)\n",
    "ls.regressor(summary = False)"
   ]
  },
  {
   "cell_type": "code",
   "execution_count": 13,
   "metadata": {},
   "outputs": [
    {
     "name": "stdout",
     "output_type": "stream",
     "text": [
      "[(1, 2), (1, 3), (1, 4), (1, 5), (1, 6), (1, 7), (1, 8), (1, 9), (2, 3), (2, 4), (2, 5), (2, 6), (2, 7), (2, 8), (2, 9), (3, 4), (3, 5), (3, 6), (3, 7), (3, 8), (3, 9), (4, 5), (4, 6), (4, 7), (4, 8), (4, 9), (5, 6), (5, 7), (5, 8), (5, 9), (6, 7), (6, 8), (6, 9), (7, 8), (7, 9), (8, 9)]\n"
     ]
    }
   ],
   "source": [
    "from itertools import combinations\n",
    "print(list(combinations([1,2,3,4,5,6,7,8,9], 2)))"
   ]
  },
  {
   "cell_type": "code",
   "execution_count": 15,
   "metadata": {},
   "outputs": [
    {
     "data": {
      "text/plain": [
       "array([ True,  True,  True])"
      ]
     },
     "execution_count": 15,
     "metadata": {},
     "output_type": "execute_result"
    }
   ],
   "source": [
    "a = np.ones(3, dtype = np.bool)\n",
    "a"
   ]
  },
  {
   "cell_type": "code",
   "execution_count": 16,
   "metadata": {},
   "outputs": [
    {
     "data": {
      "text/plain": [
       "3"
      ]
     },
     "execution_count": 16,
     "metadata": {},
     "output_type": "execute_result"
    }
   ],
   "source": [
    "np.sum(a)"
   ]
  },
  {
   "cell_type": "code",
   "execution_count": 28,
   "metadata": {},
   "outputs": [
    {
     "data": {
      "text/plain": [
       "1"
      ]
     },
     "execution_count": 28,
     "metadata": {},
     "output_type": "execute_result"
    }
   ],
   "source": [
    "b = [False, False, True, False]\n",
    "np.sum(b)"
   ]
  },
  {
   "cell_type": "code",
   "execution_count": 29,
   "metadata": {},
   "outputs": [
    {
     "data": {
      "text/plain": [
       "array([0, 1, 2, 3])"
      ]
     },
     "execution_count": 29,
     "metadata": {},
     "output_type": "execute_result"
    }
   ],
   "source": [
    "a = np.arange(4)\n",
    "a"
   ]
  },
  {
   "cell_type": "code",
   "execution_count": 30,
   "metadata": {},
   "outputs": [
    {
     "data": {
      "text/plain": [
       "array([2])"
      ]
     },
     "execution_count": 30,
     "metadata": {},
     "output_type": "execute_result"
    }
   ],
   "source": [
    "a[b]"
   ]
  },
  {
   "cell_type": "code",
   "execution_count": null,
   "metadata": {},
   "outputs": [],
   "source": []
  }
 ],
 "metadata": {
  "kernelspec": {
   "display_name": "Python 3",
   "language": "python",
   "name": "python3"
  },
  "language_info": {
   "codemirror_mode": {
    "name": "ipython",
    "version": 3
   },
   "file_extension": ".py",
   "mimetype": "text/x-python",
   "name": "python",
   "nbconvert_exporter": "python",
   "pygments_lexer": "ipython3",
   "version": "3.7.6"
  }
 },
 "nbformat": 4,
 "nbformat_minor": 4
}
